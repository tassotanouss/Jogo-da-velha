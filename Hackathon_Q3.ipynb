{
  "nbformat": 4,
  "nbformat_minor": 0,
  "metadata": {
    "colab": {
      "provenance": [],
      "authorship_tag": "ABX9TyOpZh4ndhOqoFHy9yVIVi7D",
      "include_colab_link": true
    },
    "kernelspec": {
      "name": "python3",
      "display_name": "Python 3"
    },
    "language_info": {
      "name": "python"
    }
  },
  "cells": [
    {
      "cell_type": "markdown",
      "metadata": {
        "id": "view-in-github",
        "colab_type": "text"
      },
      "source": [
        "<a href=\"https://colab.research.google.com/github/tassotanouss/Jogo-da-velha/blob/main/Hackathon_Q3.ipynb\" target=\"_parent\"><img src=\"https://colab.research.google.com/assets/colab-badge.svg\" alt=\"Open In Colab\"/></a>"
      ]
    },
    {
      "cell_type": "code",
      "execution_count": 3,
      "metadata": {
        "colab": {
          "base_uri": "https://localhost:8080/"
        },
        "id": "imgebigsYD6n",
        "outputId": "c570e106-63f9-4316-9616-fd630b569e2f"
      },
      "outputs": [
        {
          "output_type": "stream",
          "name": "stdout",
          "text": [
            "base de dados 'dados csv' gerada com sucesso!\n"
          ]
        }
      ],
      "source": [
        "import pandas as pd\n",
        "import numpy as np\n",
        "import matplotlib.pyplot as plt\n",
        "from sklearn.cluster import KMeans\n",
        "from sklearn.preprocessing import StandardScaler\n",
        "\n",
        "num_clients = 1000\n",
        "\n",
        "np.random.seed(42)\n",
        "\n",
        "quantidade_compras = np.random.randint(1, 51, num_clients)\n",
        "\n",
        "valor_gasto = np.random.uniform(10, 1000, num_clients)\n",
        "\n",
        "frequencia_compra = np.random.randint(1, 21, num_clients)\n",
        "\n",
        "df = pd.DataFrame({\n",
        "    'Quantidade_Compras': quantidade_compras,\n",
        "    'Valor_Gasto': valor_gasto,\n",
        "    'Frequencia_Compra': frequencia_compra\n",
        "})\n",
        "\n",
        "df.head()\n",
        "\n",
        "df.to_csv('dados.csv', index=False)\n",
        "\n",
        "print(\"base de dados 'dados csv' gerada com sucesso!\")"
      ]
    },
    {
      "cell_type": "code",
      "source": [
        "df = pd.read_csv('dados.csv')\n",
        "\n",
        "df_clean = df[['Quantidade_Compras', 'Valor_Gasto', 'Frequencia_Compra']]\n",
        "\n",
        "scaler = StandardScaler()\n",
        "data_scaled = scaler.fit_transform(df_clean)"
      ],
      "metadata": {
        "id": "-xZMc-9YcZhr"
      },
      "execution_count": 2,
      "outputs": []
    }
  ]
}